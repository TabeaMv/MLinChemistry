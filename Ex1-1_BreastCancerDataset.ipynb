{
 "cells": [
  {
   "cell_type": "code",
   "execution_count": 35,
   "id": "acd286c4-c7ee-47cf-8495-c27e0a867557",
   "metadata": {},
   "outputs": [
    {
     "name": "stdout",
     "output_type": "stream",
     "text": [
      "dict_keys(['data', 'target', 'frame', 'target_names', 'DESCR', 'feature_names', 'filename', 'data_module'])\n",
      "1    357\n",
      "0    212\n",
      "Name: count, dtype: int64\n",
      "1    0.626374\n",
      "0    0.373626\n",
      "Name: proportion, dtype: float64\n",
      "1    0.631579\n",
      "0    0.368421\n",
      "Name: proportion, dtype: float64\n"
     ]
    }
   ],
   "source": [
    "import pandas as pd\n",
    "import numpy as np\n",
    "\n",
    "from sklearn.datasets import load_breast_cancer\n",
    "from sklearn.model_selection import train_test_split\n",
    "\n",
    "# load dataset\n",
    "dataset = load_breast_cancer()\n",
    "print(data.keys())\n",
    "\n",
    "# check target distribution\n",
    "print(pd.Series(data.target).value_counts())\n",
    "\n",
    "# Convert to dataframe for inspection\n",
    "X = pd.DataFrame(dataset[\"data\"], columns=data[\"feature_names\"])\n",
    "y = pd.Series(dataset[\"target\"])\n",
    "\n",
    "# Split data into training and test set, stratify: \"Keep the same class ratio in both the train and test sets as in the original y.\"\n",
    "X_train, X_test, y_train, y_test = train_test_split(X, y, train_size=0.8, random_state=42, stratify=y)\n",
    "print(y_train.value_counts(normalize=True))\n",
    "print(y_test.value_counts(normalize=True))"
   ]
  },
  {
   "cell_type": "code",
   "execution_count": null,
   "id": "a4118972-a497-48c6-8f93-03bdf00e3945",
   "metadata": {},
   "outputs": [],
   "source": []
  }
 ],
 "metadata": {
  "kernelspec": {
   "display_name": "MLinChem",
   "language": "python",
   "name": "mlinchem"
  },
  "language_info": {
   "codemirror_mode": {
    "name": "ipython",
    "version": 3
   },
   "file_extension": ".py",
   "mimetype": "text/x-python",
   "name": "python",
   "nbconvert_exporter": "python",
   "pygments_lexer": "ipython3",
   "version": "3.13.5"
  }
 },
 "nbformat": 4,
 "nbformat_minor": 5
}
