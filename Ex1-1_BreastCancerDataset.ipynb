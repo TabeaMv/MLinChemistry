{
 "cells": [
  {
   "cell_type": "code",
   "execution_count": 28,
   "id": "acd286c4-c7ee-47cf-8495-c27e0a867557",
   "metadata": {},
   "outputs": [
    {
     "name": "stdout",
     "output_type": "stream",
     "text": [
      "dict_keys(['data', 'target', 'frame', 'target_names', 'DESCR', 'feature_names', 'filename', 'data_module'])\n",
      "1    357\n",
      "0    212\n",
      "Name: count, dtype: int64\n"
     ]
    },
    {
     "data": {
      "text/plain": [
       "array([1.03294198, 0.87567807, 1.02884543, 1.09510867, 1.20758302,\n",
       "       0.93233448, 0.8701484 , 0.98319138, 0.8732951 , 0.92994167,\n",
       "       1.16256232, 0.81285813, 1.11370043, 1.38554606, 0.76442912,\n",
       "       0.83934132, 0.58549243, 0.89815747, 0.66091627, 0.72955563,\n",
       "       1.06208533, 0.93566972, 1.05746064, 1.13782566, 1.06203108,\n",
       "       0.91894755, 0.81332145, 0.91868313, 0.76305558, 0.90333135])"
      ]
     },
     "execution_count": 28,
     "metadata": {},
     "output_type": "execute_result"
    }
   ],
   "source": [
    "import pandas as pd\n",
    "import numpy as np\n",
    "\n",
    "from sklearn.datasets import load_breast_cancer\n",
    "from sklearn.model_selection import train_test_split\n",
    "from sklearn import preprocessing\n",
    "\n",
    "# load dataset\n",
    "dataset = load_breast_cancer()\n",
    "print(dataset.keys())\n",
    "\n",
    "# check target distribution\n",
    "print(pd.Series(dataset.target).value_counts())\n",
    "\n",
    "# Convert to dataframe for inspection\n",
    "X = pd.DataFrame(dataset[\"data\"], columns=dataset[\"feature_names\"])\n",
    "y = pd.Series(dataset[\"target\"])\n",
    "\n",
    "# Split data into training and test set, stratify: \"Keep the same class ratio in both the train and test sets as in the original y.\"\n",
    "X_train, X_test, y_train, y_test = train_test_split(X, y, train_size=0.8, random_state=42, stratify=y)\n",
    "# print(y_train.value_counts(normalize=True))\n",
    "# print(y_test.value_counts(normalize=True))\n",
    "\n",
    "# Preprocess (standardize) features\n",
    "# only train on training data, not test data, but scale both afterwards!\n",
    "scaler = preprocessing.StandardScaler().fit(X_train) # fit scaler to feature data (only training set!)\n",
    "X_train_scaled = scaler.transform(X_train)\n",
    "X_test_scaled = scaler.transform(X_test)\n",
    "np.allclose(X_train_scaled.mean(axis=0), 0, atol=1e-8) # returns True, if means are close to 0 and should do so (floating point precision leads to values != 0)\n",
    "np.allclose(X_test_scaled.mean(axis=0), 0, atol=1e-8) # as above, but should return False, because it was not used for fitting!\n",
    "X_train_scaled.std(axis=0) # should be 1\n",
    "X_test_scaled.std(axis=0) # not 1, as scaler has not been fitted on this data"
   ]
  },
  {
   "cell_type": "code",
   "execution_count": null,
   "id": "50eb9a09-c5ce-4848-b098-8b33d93a0a32",
   "metadata": {},
   "outputs": [],
   "source": []
  },
  {
   "cell_type": "code",
   "execution_count": null,
   "id": "12f60b0c-9351-4708-9619-22ed93495629",
   "metadata": {},
   "outputs": [],
   "source": []
  }
 ],
 "metadata": {
  "kernelspec": {
   "display_name": "MLinChem",
   "language": "python",
   "name": "mlinchem"
  },
  "language_info": {
   "codemirror_mode": {
    "name": "ipython",
    "version": 3
   },
   "file_extension": ".py",
   "mimetype": "text/x-python",
   "name": "python",
   "nbconvert_exporter": "python",
   "pygments_lexer": "ipython3",
   "version": "3.13.5"
  }
 },
 "nbformat": 4,
 "nbformat_minor": 5
}
